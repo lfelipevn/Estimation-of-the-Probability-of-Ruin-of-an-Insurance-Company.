{
  "nbformat": 4,
  "nbformat_minor": 0,
  "metadata": {
    "colab": {
      "provenance": []
    },
    "kernelspec": {
      "name": "python3",
      "display_name": "Python 3"
    },
    "language_info": {
      "name": "python"
    }
  },
  "cells": [
    {
      "cell_type": "code",
      "metadata": {
        "id": "qQrfeItn1xIA"
      },
      "source": [
        "import numpy as np\n",
        "import pandas as pd\n",
        "import scipy.stats\n",
        "import matplotlib.pyplot as plt\n",
        "from tqdm.notebook import trange, tqdm"
      ],
      "execution_count": null,
      "outputs": []
    },
    {
      "cell_type": "code",
      "metadata": {
        "id": "Gukf1jGz2MaM"
      },
      "source": [
        "replicas = 100\n",
        "h = 5000\n",
        "lambda_monto_reclamo = 1\n",
        "media_reclamo = 1/lambda_monto_reclamo\n",
        "lambda_tiempo_interreclamo = 2\n",
        "media_tiempo = 1/lambda_tiempo_interreclamo\n",
        "c = 3\n",
        "us = np.linspace(1,2,3,4,5)"
      ],
      "execution_count": null,
      "outputs": []
    },
    {
      "cell_type": "markdown",
      "metadata": {
        "id": "7iVOYeLJ2RW5"
      },
      "source": [
        "#Montecarlo Condicionado"
      ]
    },
    {
      "cell_type": "code",
      "metadata": {
        "id": "Xd7TePsC2T5I"
      },
      "source": [
        "#Generar tiempos entre reclamos\n",
        "def generarTiempos(media_tiempo):\n",
        "    counter = 0\n",
        "    T = [0]\n",
        "    T_acumulado = [0]\n",
        "    while counter<h:\n",
        "        tiempo = np.random.exponential(media_tiempo)\n",
        "        if counter + tiempo > 5000:\n",
        "            break\n",
        "        T.append(tiempo)\n",
        "        counter += tiempo\n",
        "        T_acumulado.append(counter)\n",
        "    return T, T_acumulado"
      ],
      "execution_count": null,
      "outputs": []
    },
    {
      "cell_type": "code",
      "metadata": {
        "id": "a3kTlPdF2X5D"
      },
      "source": [
        "#Generar reclamos\n",
        "def generarReclamos(T, media_reclamo):\n",
        "    reclamos = [0]\n",
        "    for i in range(len(T)-1):\n",
        "        reclamo = np.random.exponential(media_reclamo)\n",
        "        reclamos.append(reclamo)\n",
        "    return reclamos"
      ],
      "execution_count": null,
      "outputs": []
    },
    {
      "cell_type": "code",
      "metadata": {
        "id": "WxYVXqFB-rts"
      },
      "source": [
        "def getReservas(T, reclamos, u, c):\n",
        "    #Proceso de reserva\n",
        "    #U(t)=u+cT-sum(j=1 a k de Xj a la i)\n",
        "    reservas = []\n",
        "    for i in range(len(T)):\n",
        "        if i == 0:\n",
        "            reserva = u + c*T_acumulado[i]-reclamos[i]\n",
        "        else:\n",
        "            reserva = reservas[i-1] + c*T[i]-reclamos[i]\n",
        "        reservas.append(reserva)\n",
        "        #if reservas[-1] < 0:\n",
        "        #    break\n",
        "    return reservas"
      ],
      "execution_count": null,
      "outputs": []
    },
    {
      "cell_type": "code",
      "metadata": {
        "id": "qAiTAzp8Vbij"
      },
      "source": [
        "import numpy as np\n",
        "import scipy.stats\n",
        "\n",
        "\n",
        "def intervalo_confianza(ruinas):\n",
        "    inter = 0.95\n",
        "    ruinas = 1.0 * np.array(ruinas)\n",
        "    n = len(ruinas)\n",
        "    m, se = np.mean(ruinas), scipy.stats.sem(ruinas)\n",
        "    h = se * scipy.stats.t.ppf((1 + inter) / 2., n-1)\n",
        "    return m, m-h, m+h"
      ],
      "execution_count": null,
      "outputs": []
    },
    {
      "cell_type": "code",
      "metadata": {
        "id": "wF95Uf-OWCNI"
      },
      "source": [
        "import statsmodels.stats.api as sms\n",
        "\n",
        "sms.DescrStatsW(a).tconfint_mean()"
      ],
      "execution_count": null,
      "outputs": []
    },
    {
      "cell_type": "code",
      "metadata": {
        "id": "ghdSXuqYWIkT"
      },
      "source": [
        "from statistics import NormalDist\n",
        "\n",
        "def confidence_interval(data, confidence=0.95):\n",
        "  dist = NormalDist.from_samples(data)\n",
        "  z = NormalDist().inv_cdf((1 + confidence) / 2.)\n",
        "  h = dist.stdev * z / ((len(data) - 1) ** .5)\n",
        "  return dist.mean - h, dist.mean + h"
      ],
      "execution_count": null,
      "outputs": []
    },
    {
      "cell_type": "code",
      "metadata": {
        "id": "O4KTWQVH_A5R"
      },
      "source": [
        "numCasosRuina = []\n",
        "probRuina = []\n",
        "tiempoPromedioRuina = []\n",
        "tiemposRuinas = []\n",
        "\n",
        "\n",
        "for u in trange(len(us)):\n",
        "  ruinas = 0\n",
        "  tiemposRuina = []\n",
        "  I = 0\n",
        "  V = 0\n",
        "  ind = 0\n",
        "  var = 0\n",
        "  for i in trange(replicas):\n",
        "    T, T_acumulado = generarTiempos(media_tiempo)\n",
        "    reclamos = generarReclamos(T, media_reclamo)\n",
        "    reservas = []\n",
        "    for t in range(len(T)):\n",
        "      if t == 0:\n",
        "        reserva = u + c*T_acumulado[t]-reclamos[i]\n",
        "      else:\n",
        "        reserva = reservas[t-1] + c*T[t]-reclamos[i]\n",
        "      reservas.append(reserva)\n",
        "      if reserva < 0:\n",
        "        print('quiebra')\n",
        "        ind += 1\n",
        "        break\n",
        "    if reservas[-1]<0:\n",
        "      tiemposRuina.append(T_acumulado[len(reservas)-1])\n",
        "      ruinas += 1\n",
        "  tiemposRuinas.append(tiemposRuina)\n",
        "  tiempoPromedioRuina.append(np.mean(tiemposRuina))\n",
        "  numCasosRuina.append(ruinas)\n",
        "  probRuina.append(ruinas/replicas)"
      ],
      "execution_count": null,
      "outputs": []
    },
    {
      "cell_type": "code",
      "metadata": {
        "id": "jHIe9SgVDLlY"
      },
      "source": [
        "reservas"
      ],
      "execution_count": null,
      "outputs": []
    }
  ]
}